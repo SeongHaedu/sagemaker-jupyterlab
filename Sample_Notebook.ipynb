{
 "cells": [
  {
   "cell_type": "markdown",
   "id": "afa50c09-7394-4c21-8369-7ed218096213",
   "metadata": {},
   "source": [
    "# Sample Notebook"
   ]
  },
  {
   "cell_type": "code",
   "execution_count": 1,
   "id": "05853319-21c3-4e52-a876-23bed5184770",
   "metadata": {},
   "outputs": [
    {
     "name": "stdout",
     "output_type": "stream",
     "text": [
      "Hello SageMaker\n"
     ]
    }
   ],
   "source": [
    "print('Hello SageMaker')"
   ]
  },
  {
   "cell_type": "code",
   "execution_count": null,
   "id": "8c2d9eb6-1e6a-4162-a192-76173d63ad45",
   "metadata": {},
   "outputs": [],
   "source": []
  }
 ],
 "metadata": {
  "kernelspec": {
   "display_name": "Python 3 (ipykernel)",
   "language": "python",
   "name": "python3"
  },
  "language_info": {
   "codemirror_mode": {
    "name": "ipython",
    "version": 3
   },
   "file_extension": ".py",
   "mimetype": "text/x-python",
   "name": "python",
   "nbconvert_exporter": "python",
   "pygments_lexer": "ipython3",
   "version": "3.11.11"
  }
 },
 "nbformat": 4,
 "nbformat_minor": 5
}
